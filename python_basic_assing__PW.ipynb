{
  "nbformat": 4,
  "nbformat_minor": 0,
  "metadata": {
    "colab": {
      "provenance": []
    },
    "kernelspec": {
      "name": "python3",
      "display_name": "Python 3"
    },
    "language_info": {
      "name": "python"
    }
  },
  "cells": [
    {
      "cell_type": "code",
      "execution_count": null,
      "metadata": {
        "id": "L3DYZfJ2_DQX"
      },
      "outputs": [],
      "source": []
    },
    {
      "cell_type": "markdown",
      "source": [],
      "metadata": {
        "id": "SiLX9kD__0Vb"
      }
    },
    {
      "cell_type": "markdown",
      "source": [
        "Explain the key features of Python that make it a popular choice for programming  \n",
        "\n",
        "Ans- Ease of Use and Readability: Python's syntax is clean and straightforward, making it easier to learn and write code compared to other languages.\n",
        "\n",
        "Interpreted Language: Python does not require compilation; it runs directly via an interpreter, which makes debugging simpler.\n",
        "\n",
        "Versatility: Python supports various programming paradigms, such as procedural, object-oriented, and functional programming.\n",
        "\n",
        "Extensive Libraries and Frameworks: Python has a rich standard library and third-party libraries (like NumPy, Pandas, TensorFlow) that simplify tasks ranging from data analysis to web development.\n",
        "\n",
        "Platform-Independent: Python code can run on any platform with the appropriate interpreter, making it highly portable.\n",
        "\n",
        "Strong Community Support: Python has an active and supportive community, which ensures regular updates, documentation, and solutions to common problems.\n",
        "\n",
        "Integration Capabilities: Python can easily integrate with other languages like C, C++, and Java, enabling its use in diverse systems."
      ],
      "metadata": {
        "id": "lq2Pj5L7_0ae"
      }
    },
    {
      "cell_type": "markdown",
      "source": [
        " Describe the role of predefined keywords in Python and provide examples of how they are used in a\n",
        "program\n",
        "\n",
        "\n",
        "Ans- Predefined keywords are reserved words in Python that have specific meanings and purposes. They are part of the language's syntax and cannot be used as identifiers (e.g., variable names or function names). These keywords define the structure and flow of a program.\n",
        "\n",
        "Examples of Python Keywords:\n",
        "if, else, elif: Control flow keywords used for conditional statements.\n",
        "for, while: Looping constructs.\n",
        "def: Used to define functions.\n",
        "class: Defines a class.\n",
        "import: Imports modules.\n",
        "try, except, finally: Exception handling.\n",
        "None, True, False: Boolean values and null representation.\n",
        "\n"
      ],
      "metadata": {
        "id": "G86oz7Fm_1zf"
      }
    },
    {
      "cell_type": "code",
      "source": [
        "# Demonstrating Python keywords in a program\n",
        "def check_number(num):  # 'def' defines a function\n",
        "    if num > 0:         # 'if' keyword for condition\n",
        "        return True      # 'return' returns a value\n",
        "    elif num == 0:      # 'elif' is for additional conditions\n",
        "        return None\n",
        "    else:               # 'else' for the default case\n",
        "        return False\n",
        "\n",
        "number = -5\n",
        "result = check_number(number)  # Calling the function\n",
        "\n",
        "if result is True:             # 'is' checks for object identity\n",
        "    print(\"Positive number\")\n",
        "elif result is None:\n",
        "    print(\"Zero\")\n",
        "else:\n",
        "    print(\"Negative number\")\n"
      ],
      "metadata": {
        "colab": {
          "base_uri": "https://localhost:8080/"
        },
        "id": "OTXhoJNQCOfI",
        "outputId": "e8871d47-c161-4dce-a64a-32554229c8b8"
      },
      "execution_count": null,
      "outputs": [
        {
          "output_type": "stream",
          "name": "stdout",
          "text": [
            "Negative number\n"
          ]
        }
      ]
    },
    {
      "cell_type": "markdown",
      "source": [
        "Compare and contrast mutable and immutable objects in Python with examples\n",
        "\n",
        "Ans-  Mutable Objects: These are objects whose state (content) can be changed after they are created.\n",
        "Immutable Objects: These are objects whose state (content) cannot be changed once they are created.\n",
        "\n",
        "Mutable Objects:\n",
        "\n",
        "Lists\n",
        "Dictionaries\n",
        "Sets\n",
        "Immutable Objects:\n",
        "\n",
        "Strings\n",
        "Tuples\n",
        "Integers\n",
        "Floats"
      ],
      "metadata": {
        "id": "hcFapUgECUak"
      }
    },
    {
      "cell_type": "code",
      "source": [
        "# Initial list\n",
        "my_list = [1, 2, 3]\n",
        "print(\"Original List:\", my_list)\n",
        "\n",
        "# Modifying the list\n",
        "my_list.append(4)\n",
        "print(\"Modified List:\", my_list)\n",
        "\n",
        "# Memory address remains the same\n",
        "print(\"Memory Address:\", id(my_list))\n"
      ],
      "metadata": {
        "colab": {
          "base_uri": "https://localhost:8080/"
        },
        "id": "5JxV-ygBC1lt",
        "outputId": "8bf61b10-7ffe-4a95-fbae-44cea1b8dc4e"
      },
      "execution_count": null,
      "outputs": [
        {
          "output_type": "stream",
          "name": "stdout",
          "text": [
            "Original List: [1, 2, 3]\n",
            "Modified List: [1, 2, 3, 4]\n",
            "Memory Address: 135684176414528\n"
          ]
        }
      ]
    },
    {
      "cell_type": "code",
      "source": [
        "# Initial string\n",
        "my_string = \"Hello\"\n",
        "print(\"Original String:\", my_string)\n",
        "\n",
        "# Attempting to modify the string\n",
        "new_string = my_string + \" World\"\n",
        "print(\"New String:\", new_string)\n",
        "\n",
        "# Memory address changes\n",
        "print(\"Original Memory Address:\", id(my_string))\n",
        "print(\"New Memory Address:\", id(new_string))\n"
      ],
      "metadata": {
        "colab": {
          "base_uri": "https://localhost:8080/"
        },
        "id": "tj7QixRoDRSk",
        "outputId": "35823929-6dc2-43dd-d950-40cd5436ccf3"
      },
      "execution_count": null,
      "outputs": [
        {
          "output_type": "stream",
          "name": "stdout",
          "text": [
            "Original String: Hello\n",
            "New String: Hello World\n",
            "Original Memory Address: 135684180828848\n",
            "New Memory Address: 135684180830640\n"
          ]
        }
      ]
    },
    {
      "cell_type": "markdown",
      "source": [
        "Discuss the different types of operators in Python and provide examples of how they are used\n",
        "\n",
        "Ans- Arithmetic Operators\n",
        "Used to perform mathematical operations.\n",
        "\n",
        "Operator\tDescription\tExample\n",
        "+\tAddition\t5 + 3 → 8\n",
        "-\tSubtraction\t5 - 3 → 2\n",
        "*\tMultiplication\t5 * 3 → 15\n",
        "/\tDivision\t5 / 2 → 2.5\n",
        "//\tFloor Division\t5 // 2 → 2\n",
        "%\tModulus\t5 % 2 → 1\n",
        "**\tExponentiation\t2 ** 3 → 8\n"
      ],
      "metadata": {
        "id": "dM7iER4CDYjY"
      }
    },
    {
      "cell_type": "code",
      "source": [
        "a, b = 10, 3\n",
        "print(a + b)  # Addition\n",
        "print(a ** b) # Exponentiation\n"
      ],
      "metadata": {
        "colab": {
          "base_uri": "https://localhost:8080/"
        },
        "id": "cytQF6paEZiz",
        "outputId": "166a85ff-0e65-4ed7-d5b6-b93e05310e79"
      },
      "execution_count": null,
      "outputs": [
        {
          "output_type": "stream",
          "name": "stdout",
          "text": [
            "13\n",
            "1000\n"
          ]
        }
      ]
    },
    {
      "cell_type": "markdown",
      "source": [
        "Relational (Comparison) Operators\n",
        "Used to compare two values, returning True or False.\n",
        "\n",
        "Operator\tDescription\tExample\n",
        "==\tEqual to\t5 == 3 → False\n",
        "!=\tNot equal to\t5 != 3 → True\n",
        ">\tGreater than\t5 > 3 → True\n",
        "<\tLess than\t5 < 3 → False\n",
        ">=\tGreater than or equal\t5 >= 3 → True\n",
        "<=\tLess than or equal\t5 <= 3 → False"
      ],
      "metadata": {
        "id": "d1RohynYEcJ1"
      }
    },
    {
      "cell_type": "code",
      "source": [
        "x, y = 7, 10\n",
        "print(x < y)  # Less than\n",
        "print(x == y) # Equality check\n"
      ],
      "metadata": {
        "colab": {
          "base_uri": "https://localhost:8080/"
        },
        "id": "ShxBmEmnEjq6",
        "outputId": "1d8fd39f-08c4-48b6-8de3-6f0c19b3c32d"
      },
      "execution_count": null,
      "outputs": [
        {
          "output_type": "stream",
          "name": "stdout",
          "text": [
            "True\n",
            "False\n"
          ]
        }
      ]
    },
    {
      "cell_type": "markdown",
      "source": [
        "Logical Operators\n",
        "Used to combine conditional statements.\n",
        "\n",
        "Operator\tDescription\tExample\n",
        "and\tLogical AND\tTrue and False → False\n",
        "or\tLogical OR\tTrue or False → True\n",
        "not\tLogical NOT\tnot True → False"
      ],
      "metadata": {
        "id": "XYC_pIalErAE"
      }
    },
    {
      "cell_type": "code",
      "source": [
        "a, b = True, False\n",
        "print(a and b) # False\n",
        "print(a or b)  # True\n",
        "print(not a)   # False\n"
      ],
      "metadata": {
        "colab": {
          "base_uri": "https://localhost:8080/"
        },
        "id": "C8u_d30pEyXJ",
        "outputId": "ff54ebdd-0b4a-49ab-d135-5d6e3941ed48"
      },
      "execution_count": null,
      "outputs": [
        {
          "output_type": "stream",
          "name": "stdout",
          "text": [
            "False\n",
            "True\n",
            "False\n"
          ]
        }
      ]
    },
    {
      "cell_type": "markdown",
      "source": [
        "Assignment Operators\n",
        "Used to assign values to variables.\n",
        "\n",
        "Operator\tDescription\tExample\n",
        "=\tAssign\tx = 5\n",
        "+=\tAdd and assign\tx += 3 → x = x + 3\n",
        "-=\tSubtract and assign\tx -= 2 → x = x - 2\n",
        "*=\tMultiply and assign\tx *= 4\n",
        "/=\tDivide and assign\tx /= 2"
      ],
      "metadata": {
        "id": "y-gMsWXdE9dn"
      }
    },
    {
      "cell_type": "code",
      "source": [
        "x = 10\n",
        "x += 5  # x = x + 5\n",
        "print(x) # 15\n"
      ],
      "metadata": {
        "colab": {
          "base_uri": "https://localhost:8080/"
        },
        "id": "UNhkgaqnE_tA",
        "outputId": "20f52b6a-3e2a-4edd-b4f6-6c1d2175b491"
      },
      "execution_count": null,
      "outputs": [
        {
          "output_type": "stream",
          "name": "stdout",
          "text": [
            "15\n"
          ]
        }
      ]
    },
    {
      "cell_type": "markdown",
      "source": [
        "Explain the concept of type casting in Python with examples\n",
        "\n",
        "Ans- Type casting refers to the process of converting one data type into another. Python provides both implicit and explicit type casting mechanisms.\n",
        "\n",
        "Implicit Type Casting\n",
        "In implicit type casting, Python automatically converts a smaller data type to a larger data type (e.g., integer to float) to avoid data loss."
      ],
      "metadata": {
        "id": "KQ5hPmxYFFt7"
      }
    },
    {
      "cell_type": "code",
      "source": [
        "# Implicit conversion\n",
        "num_int = 10        # Integer\n",
        "num_float = 5.5     # Float\n",
        "result = num_int + num_float\n",
        "\n",
        "print(\"Result:\", result)            # Output: 15.5\n",
        "print(\"Type of result:\", type(result))  # Output: <class 'float'>\n"
      ],
      "metadata": {
        "colab": {
          "base_uri": "https://localhost:8080/"
        },
        "id": "KIGvLnQQCXx8",
        "outputId": "b485a3bb-ddf4-40d8-b224-9bec776b985a"
      },
      "execution_count": null,
      "outputs": [
        {
          "output_type": "stream",
          "name": "stdout",
          "text": [
            "Result: 15.5\n",
            "Type of result: <class 'float'>\n"
          ]
        }
      ]
    },
    {
      "cell_type": "markdown",
      "source": [
        "Explicit Type Casting\n",
        "In explicit type casting, the programmer manually converts the data type using Python's built-in functions.\n",
        "\n",
        "Common Type Casting Functions:\n",
        "Function\tDescription\n",
        "int()\tConverts to an integer\n",
        "float()\tConverts to a float\n",
        "str()\tConverts to a string\n",
        "list()\tConverts to a list\n",
        "tuple()\tConverts to a tuple\n",
        "set()\tConverts to a set\n"
      ],
      "metadata": {
        "id": "bfpt8OCpCp-y"
      }
    },
    {
      "cell_type": "markdown",
      "source": [
        "Examples of Explicit Type Casting\n",
        "Converting Float to Integer:"
      ],
      "metadata": {
        "id": "95WoE3uGDHg3"
      }
    },
    {
      "cell_type": "code",
      "source": [
        "num = 5.7\n",
        "num_int = int(num)\n",
        "print(\"Original:\", num, \"| Type:\", type(num))       # Output: 5.7 | <class 'float'>\n",
        "print(\"Converted:\", num_int, \"| Type:\", type(num_int))  # Output: 5 | <class 'int'>\n"
      ],
      "metadata": {
        "colab": {
          "base_uri": "https://localhost:8080/"
        },
        "id": "2LKv0DwQDPBH",
        "outputId": "7e6e8fed-d292-4419-b462-b909c9836a02"
      },
      "execution_count": null,
      "outputs": [
        {
          "output_type": "stream",
          "name": "stdout",
          "text": [
            "Original: 5.7 | Type: <class 'float'>\n",
            "Converted: 5 | Type: <class 'int'>\n"
          ]
        }
      ]
    },
    {
      "cell_type": "markdown",
      "source": [
        "How do conditional statements work in Python? Illustrate with examples\n",
        "\n",
        "Ans-Conditional Statements in Python\n",
        "Conditional statements allow the program to execute a block of code based on whether a condition is True or False.\n",
        "\n",
        "Types of Conditional Statements\n",
        "if Statement: Executes a block of code if the condition is True.\n",
        "\n",
        "\n",
        "```\n",
        "# This is formatted as code\n",
        "```\n",
        "num = 10\n",
        "if num > 5:\n",
        "    print(\"Number is greater than 5\")\n",
        "\n",
        "\n",
        "if-else Statement: Provides an alternative block of code if the condition is False\n",
        "\n",
        "\n",
        "num = 3\n",
        "if num > 5:\n",
        "    print(\"Number is greater than 5\")\n",
        "else:\n",
        "    print(\"Number is 5 or less\")\n",
        "\n",
        "\n",
        "\n",
        "if-elif-else Statement: Checks multiple conditions sequentially. The first True condition's block is executed, and the rest are skipped.\n",
        "\n",
        "Example:\n",
        "\n",
        "python\n",
        "Copy code\n",
        "num = 15\n",
        "if num < 10:\n",
        "    print(\"Number is less than 10\")\n",
        "elif num < 20:\n",
        "    print(\"Number is between 10 and 20\")\n",
        "else:\n",
        "    print(\"Number is 20 or greater\")\n",
        "Nested if Statements: An if statement inside another if block.\n",
        "\n",
        "Example:\n",
        "\n",
        "python\n",
        "Copy code\n",
        "num = 8\n",
        "if num > 5:\n",
        "    if num % 2 == 0:\n",
        "        print(\"Number is greater than 5 and even\")\n",
        "\n",
        "\n"
      ],
      "metadata": {
        "id": "sYfeGLstDuuj"
      }
    },
    {
      "cell_type": "markdown",
      "source": [
        " Describe the different types of loops in Python and their use cases with examples\n",
        "\n",
        " Ans-  Loops in Python\n",
        "Loops allow the execution of a block of code repeatedly as long as a condition is True.\n",
        "\n",
        "Types of Loops\n",
        "for Loop: Iterates over a sequence (e.g., list, string, range).\n",
        "\n",
        "Use Case: Use when the number of iterations is known.\n",
        "\n",
        "Example:\n",
        "\n",
        "python\n",
        "Copy code\n",
        "# Iterating through a list\n",
        "fruits = [\"apple\", \"banana\", \"cherry\"]\n",
        "for fruit in fruits:\n",
        "    print(fruit)\n",
        "\n",
        "# Iterating through a range\n",
        "for i in range(5):  # Outputs 0 to 4\n",
        "    print(i)\n",
        "while Loop: Repeats a block of code as long as a condition is True.\n",
        "\n",
        "Use Case: Use when the number of iterations is not predetermined and depends on a condition.\n",
        "\n",
        "Example:\n",
        "\n",
        "python\n",
        "Copy code\n",
        "num = 1\n",
        "while num <= 5:\n",
        "    print(num)\n",
        "    num += 1  # Increment num\n",
        "Nested Loops: A loop inside another loop.\n",
        "\n",
        "Use Case: Useful for working with multi-dimensional data, such as matrices.\n",
        "\n",
        "Example:\n",
        "\n",
        "python\n",
        "Copy code\n",
        "for i in range(3):\n",
        "    for j in range(2):\n",
        "        print(f\"i: {i}, j: {j}\")\n",
        "Special Keywords for Loops\n",
        "break: Terminates the loop entirely. Example:\n",
        "\n",
        "python\n",
        "Copy code\n",
        "for i in range(10):\n",
        "    if i == 5:\n",
        "        break\n",
        "    print(i)\n",
        "# Output: 0 1 2 3 4\n",
        "continue: Skips the current iteration and continues with the next. Example:\n",
        "\n",
        "python\n",
        "Copy code\n",
        "for i in range(5):\n",
        "    if i == 2:\n",
        "        continue\n",
        "    print(i)\n",
        "# Output: 0 1 3 4\n",
        "else with Loops: Executes when the loop completes normally (without break). Example:\n",
        "\n",
        "python\n",
        "Copy code\n",
        "for i in range(5):\n",
        "    print(i)\n",
        "else:\n",
        "    print(\"Loop finished\")"
      ],
      "metadata": {
        "id": "l0OLGMceIPhx"
      }
    }
  ]
}